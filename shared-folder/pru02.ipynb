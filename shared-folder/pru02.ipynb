{
 "cells": [
  {
   "cell_type": "code",
   "execution_count": null,
   "id": "aac6fb60-65a3-4e56-b859-e8a09122c04e",
   "metadata": {
    "tags": []
   },
   "outputs": [],
   "source": [
    "import os\n",
    "\n",
    "kubernetes_service_host = os.getenv(\"KUBERNETES_SERVICE_HOST\")\n",
    "kubernetes_service_port = os.getenv(\"KUBERNETES_SERVICE_PORT\")\n",
    "spark_driver_bind_address = os.getenv(\"SPARK_DRIVER_BIND_ADDRESS\")\n",
    "volume_type = os.getenv(\"VOLUME_TYPE\")\n",
    "volume_name = os.getenv(\"VOLUME_NAME\")\n",
    "mount_path = os.getenv(\"MOUNT_PATH\")\n",
    "\n",
    "print(f\"{kubernetes_service_host=} {kubernetes_service_port=}\")\n",
    "print(f\"{spark_driver_bind_address=}\")\n",
    "print(f\"{volume_type=} {volume_name=}\")\n",
    "print(f\"{mount_path=}\")\n",
    "\n",
    "warehouse_location = f\"{mount_path}/spark-warehouse\"\n",
    "url = \"jdbc:mysql://metastore-db/metastore\"\n",
    "driver = \"com.mysql.cj.jdbc.Driver\"\n",
    "username = \"root\"\n",
    "password = \"my-secret-pw\""
   ]
  },
  {
   "cell_type": "code",
   "execution_count": null,
   "id": "51a62e3b-a376-43d8-85f5-7b9f37a092d0",
   "metadata": {
    "tags": []
   },
   "outputs": [],
   "source": [
    "from pyspark.sql import SparkSession\n",
    "\n",
    "spark = SparkSession.builder \\\n",
    "    .master(f\"k8s://https://{kubernetes_service_host}:{kubernetes_service_port}\") \\\n",
    "    .config(\"spark.driver.host\", spark_driver_bind_address) \\\n",
    "    .config(\"spark.kubernetes.container.image\", \"apache/spark-py:v3.3.1\") \\\n",
    "    .config(\"spark.kubernetes.context\", \"minikube\") \\\n",
    "    .config(\"spark.kubernetes.namespace\", \"spark-demo\") \\\n",
    "    .config(f\"spark.kubernetes.driver.volumes.{volume_type}.{volume_name}.mount.path\", mount_path) \\\n",
    "    .config(f\"spark.kubernetes.driver.volumes.{volume_type}.{volume_name}.options.path\", mount_path) \\\n",
    "    .config(f\"spark.kubernetes.executor.volumes.{volume_type}.{volume_name}.mount.path\", mount_path) \\\n",
    "    .config(f\"spark.kubernetes.executor.volumes.{volume_type}.{volume_name}.options.path\", mount_path) \\\n",
    "    .config(\"spark.sql.warehouse.dir\", warehouse_location) \\\n",
    "    .config(\"javax.jdo.option.ConnectionURL\", url) \\\n",
    "    .config(\"javax.jdo.option.ConnectionDriverName\", driver) \\\n",
    "    .config(\"javax.jdo.option.ConnectionUserName\", username) \\\n",
    "    .config(\"javax.jdo.option.ConnectionPassword\", password) \\\n",
    "    .appName(\"Test notebook\") \\\n",
    "    .enableHiveSupport() \\\n",
    "    .getOrCreate()\n",
    "\n",
    "sc = spark.sparkContext"
   ]
  },
  {
   "cell_type": "code",
   "execution_count": null,
   "id": "1fd9e6ed-ccb1-4313-892d-e824618ceb0f",
   "metadata": {
    "tags": []
   },
   "outputs": [],
   "source": [
    "file_name = \"/shared-folder/load_data_write_to_server.py\"\n",
    "\n",
    "lines = sc.textFile(file_name)\n",
    "\n",
    "words = lines \\\n",
    "    .flatMap(lambda line: line.split(\" \")) \\\n",
    "    .filter(lambda word: word)\n",
    "\n",
    "#MapReduce\n",
    "wordCount = words \\\n",
    "    .map(lambda word: (word,1)) \\\n",
    "    .reduceByKey(lambda n,m: n+m)\n",
    "\n",
    "result = wordCount \\\n",
    "    .sortBy((lambda p: p[1]), ascending = False) # ordena por cantidad\n"
   ]
  },
  {
   "cell_type": "code",
   "execution_count": null,
   "id": "906dc268-fdc3-4e60-828c-80d211e482f0",
   "metadata": {
    "tags": []
   },
   "outputs": [],
   "source": [
    "local_result = result.collect() # Traigo desde cluster\n",
    "\n",
    "for word, count in local_result[:10]: # tomo 10\n",
    "    print(word, count) # los imprimo\n"
   ]
  },
  {
   "cell_type": "code",
   "execution_count": null,
   "id": "17a33b38-2f00-4aea-b8d2-0267ad6c7926",
   "metadata": {
    "tags": []
   },
   "outputs": [],
   "source": [
    "spark.stop()"
   ]
  },
  {
   "cell_type": "code",
   "execution_count": null,
   "id": "3b294167-3488-40b7-b9e2-11a1426bd873",
   "metadata": {},
   "outputs": [],
   "source": []
  }
 ],
 "metadata": {
  "kernelspec": {
   "display_name": "Python 3 (ipykernel)",
   "language": "python",
   "name": "python3"
  },
  "language_info": {
   "codemirror_mode": {
    "name": "ipython",
    "version": 3
   },
   "file_extension": ".py",
   "mimetype": "text/x-python",
   "name": "python",
   "nbconvert_exporter": "python",
   "pygments_lexer": "ipython3",
   "version": "3.9.16"
  }
 },
 "nbformat": 4,
 "nbformat_minor": 5
}
